{
 "cells": [
  {
   "cell_type": "code",
   "execution_count": null,
   "id": "d34dc19d-617d-4696-b9c3-b35adc8de496",
   "metadata": {
    "tags": []
   },
   "outputs": [],
   "source": [
    "!pip install transformers huggingface_hub hf_transfer"
   ]
  },
  {
   "cell_type": "code",
   "execution_count": null,
   "id": "d15be1e2-dffc-47b8-906e-d9d6f27de8d3",
   "metadata": {
    "tags": []
   },
   "outputs": [],
   "source": [
    "import os\n",
    "from huggingface_hub import snapshot_download\n",
    "import boto3\n",
    "from tqdm import tqdm\n",
    "from concurrent.futures import ThreadPoolExecutor\n",
    "\n",
    "\n",
    "os.environ[\"HF_HUB_ENABLE_HF_TRANSFER\"] = \"1\"\n",
    "\n",
    "# Hugging Face からダウンロードするモデル名\n",
    "\n",
    "HF_MODEL_ID = \"deepseek-ai/DeepSeek-Coder-V2-Lite-Instruct\" # Example model ID\n",
    "model_tar_dir = HF_MODEL_ID.split(\"/\")[-1]\n",
    "os.makedirs(model_tar_dir, exist_ok=True)\n",
    "hf_token = os.environ.get('HF_TOKEN')\n",
    "\n",
    "# Download the model\n",
    "snapshot_download(\n",
    "    HF_MODEL_ID,\n",
    "    local_dir=str(model_tar_dir),\n",
    "    revision=\"main\",\n",
    "    local_dir_use_symlinks=False,\n",
    "    ignore_patterns=[\"*.msgpack*\", \"*.h5*\", \"*.bin*\"],\n",
    "    token=hf_token\n",
    ")"
   ]
  },
  {
   "cell_type": "code",
   "execution_count": null,
   "id": "c97d5083-563b-42c0-9119-6547816ebc1f",
   "metadata": {
    "tags": []
   },
   "outputs": [],
   "source": [
    "# S3 バケットの設定\n",
    "s3_bucket_name = os.environ.get('AWS_S3_BUCKET')\n",
    "s3_model_key = os.path.join(\"models\", model_tar_dir)\n",
    "\n",
    "key_id = os.environ.get('AWS_ACCESS_KEY_ID')\n",
    "secret_key = os.environ.get('AWS_SECRET_ACCESS_KEY')\n",
    "\n",
    "# S3 へのアップロードに必要な情報\n",
    "aws_access_key_id = key_id\n",
    "aws_secret_access_key = secret_key\n",
    "region_name = \"ap-northeast-1\"\n",
    "\n",
    "\n",
    "# マルチパートアップロードでのアップロードパラメーターの設定\n",
    "chunk_size = 8 * 1024 * 1024  # チャンクサイズ (8 MB)\n",
    "\n",
    "# S3 クライアントを初期化\n",
    "s3_client = boto3.client(\n",
    "    \"s3\",\n",
    "    aws_access_key_id=aws_access_key_id,\n",
    "    aws_secret_access_key=aws_secret_access_key,\n",
    "    region_name=region_name\n",
    ")\n",
    "\n",
    "# マルチパートアップロードを開始\n",
    "def upload_file_multipart(local_path, s3_bucket_name, s3_key):\n",
    "    with open(local_path, 'rb') as f:\n",
    "        s3_client.upload_fileobj(f, s3_bucket_name, s3_key,\n",
    "                                 #ExtraArgs={'ACL': 'public-read'},\n",
    "                                 Config=boto3.s3.transfer.TransferConfig(multipart_threshold=chunk_size))\n",
    "\n",
    "# S3 にモデルをアップロードする関数\n",
    "def upload_to_s3(file):\n",
    "    local_path = os.path.join(model_tar_dir, file)\n",
    "    s3_key = os.path.join(s3_model_key, file)\n",
    "    upload_file_multipart(local_path, s3_bucket_name, s3_key)\n",
    "    print(f\"Uploaded {file} to S3\")\n",
    "\n",
    "# マルチスレッドでファイルをアップロード\n",
    "with ThreadPoolExecutor(max_workers=8) as executor:  # 最大 8 スレッドで並行実行\n",
    "    executor.map(upload_to_s3, os.listdir(model_tar_dir))\n",
    "\n",
    "print(\"Model uploaded successfully to S3.\")"
   ]
  },
  {
   "cell_type": "code",
   "execution_count": null,
   "id": "356d57ba-bf45-49b5-8ae7-21eaebae487f",
   "metadata": {},
   "outputs": [],
   "source": []
  }
 ],
 "metadata": {
  "kernelspec": {
   "display_name": "Python 3.9",
   "language": "python",
   "name": "python3"
  },
  "language_info": {
   "codemirror_mode": {
    "name": "ipython",
    "version": 3
   },
   "file_extension": ".py",
   "mimetype": "text/x-python",
   "name": "python",
   "nbconvert_exporter": "python",
   "pygments_lexer": "ipython3",
   "version": "3.9.16"
  }
 },
 "nbformat": 4,
 "nbformat_minor": 5
}
